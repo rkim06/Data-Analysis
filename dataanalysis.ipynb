{
 "cells": [
  {
   "cell_type": "markdown",
   "metadata": {},
   "source": [
    "# ANALYSIS OF 2022 FBI HATE CRIME DATA"
   ]
  },
  {
   "cell_type": "markdown",
   "metadata": {},
   "source": [
    "#### - Hate Crime data for the nation are derived from National Incident-Based Reporting System (NIBRS) and Summary Reporting System (SRS) reports voluntarily submitted to the FBI.\n",
    "#### - The 2022 Hate Crime statistics for the nation are based on data received from 14,660 of 18,888 participating law enforcement agencies in the country that year.\n",
    "#### - The FBI Uniform Crime Reporting Program defines hate crime as a committed criminal offense which is motivated, in whole or in part, by the offender’s bias(es) against a race, religion, disability, sexual orientation, ethnicity, gender, or gender identity."
   ]
  },
  {
   "cell_type": "markdown",
   "metadata": {},
   "source": [
    "# import and load data"
   ]
  },
  {
   "cell_type": "code",
   "execution_count": 1,
   "metadata": {},
   "outputs": [
    {
     "name": "stderr",
     "output_type": "stream",
     "text": [
      "/var/folders/7y/vhmh51616wg6bkp5k64sq0j40000gn/T/ipykernel_61002/4012551231.py:1: DeprecationWarning: \n",
      "Pyarrow will become a required dependency of pandas in the next major release of pandas (pandas 3.0),\n",
      "(to allow more performant data types, such as the Arrow string type, and better interoperability with other libraries)\n",
      "but was not found to be installed on your system.\n",
      "If this would cause problems for you,\n",
      "please provide us feedback at https://github.com/pandas-dev/pandas/issues/54466\n",
      "        \n",
      "  import pandas as pd\n"
     ]
    }
   ],
   "source": [
    "import pandas as pd\n",
    "import matplotlib.pyplot as plt\n",
    "import seaborn as sns\n",
    "\n",
    "import csv"
   ]
  },
  {
   "cell_type": "code",
   "execution_count": 2,
   "metadata": {},
   "outputs": [
    {
     "name": "stdout",
     "output_type": "stream",
     "text": [
      "<class 'pandas.core.frame.DataFrame'>\n",
      "RangeIndex: 34 entries, 0 to 33\n",
      "Data columns (total 6 columns):\n",
      " #   Column           Non-Null Count  Dtype \n",
      "---  ------           --------------  ----- \n",
      " 0   Bias motivation  34 non-null     object\n",
      " 1   Type             34 non-null     object\n",
      " 2   Incidents        34 non-null     int64 \n",
      " 3   Offenses         34 non-null     int64 \n",
      " 4   Victims1         34 non-null     int64 \n",
      " 5   Known offenders  34 non-null     int64 \n",
      "dtypes: int64(4), object(2)\n",
      "memory usage: 1.7+ KB\n"
     ]
    },
    {
     "data": {
      "text/html": [
       "<div>\n",
       "<style scoped>\n",
       "    .dataframe tbody tr th:only-of-type {\n",
       "        vertical-align: middle;\n",
       "    }\n",
       "\n",
       "    .dataframe tbody tr th {\n",
       "        vertical-align: top;\n",
       "    }\n",
       "\n",
       "    .dataframe thead th {\n",
       "        text-align: right;\n",
       "    }\n",
       "</style>\n",
       "<table border=\"1\" class=\"dataframe\">\n",
       "  <thead>\n",
       "    <tr style=\"text-align: right;\">\n",
       "      <th></th>\n",
       "      <th>Bias motivation</th>\n",
       "      <th>Type</th>\n",
       "      <th>Incidents</th>\n",
       "      <th>Offenses</th>\n",
       "      <th>Victims1</th>\n",
       "      <th>Known offenders</th>\n",
       "    </tr>\n",
       "  </thead>\n",
       "  <tbody>\n",
       "    <tr>\n",
       "      <th>0</th>\n",
       "      <td>Anti-White</td>\n",
       "      <td>Race/Ethnicity/Ancestry</td>\n",
       "      <td>966</td>\n",
       "      <td>1102</td>\n",
       "      <td>1126</td>\n",
       "      <td>892</td>\n",
       "    </tr>\n",
       "    <tr>\n",
       "      <th>1</th>\n",
       "      <td>Anti-Black or African American</td>\n",
       "      <td>Race/Ethnicity/Ancestry</td>\n",
       "      <td>3421</td>\n",
       "      <td>4000</td>\n",
       "      <td>4075</td>\n",
       "      <td>3017</td>\n",
       "    </tr>\n",
       "    <tr>\n",
       "      <th>2</th>\n",
       "      <td>Anti-American Indian or Alaska Native</td>\n",
       "      <td>Race/Ethnicity/Ancestry</td>\n",
       "      <td>194</td>\n",
       "      <td>209</td>\n",
       "      <td>217</td>\n",
       "      <td>196</td>\n",
       "    </tr>\n",
       "    <tr>\n",
       "      <th>3</th>\n",
       "      <td>Anti-Asian</td>\n",
       "      <td>Race/Ethnicity/Ancestry</td>\n",
       "      <td>499</td>\n",
       "      <td>579</td>\n",
       "      <td>602</td>\n",
       "      <td>466</td>\n",
       "    </tr>\n",
       "    <tr>\n",
       "      <th>4</th>\n",
       "      <td>Anti-Native Hawaiian or Other Pacific Islander</td>\n",
       "      <td>Race/Ethnicity/Ancestry</td>\n",
       "      <td>26</td>\n",
       "      <td>29</td>\n",
       "      <td>30</td>\n",
       "      <td>23</td>\n",
       "    </tr>\n",
       "    <tr>\n",
       "      <th>5</th>\n",
       "      <td>Anti-Multiple Races, Group</td>\n",
       "      <td>Race/Ethnicity/Ancestry</td>\n",
       "      <td>232</td>\n",
       "      <td>271</td>\n",
       "      <td>287</td>\n",
       "      <td>175</td>\n",
       "    </tr>\n",
       "    <tr>\n",
       "      <th>6</th>\n",
       "      <td>Anti-Arab</td>\n",
       "      <td>Race/Ethnicity/Ancestry</td>\n",
       "      <td>92</td>\n",
       "      <td>105</td>\n",
       "      <td>105</td>\n",
       "      <td>82</td>\n",
       "    </tr>\n",
       "    <tr>\n",
       "      <th>7</th>\n",
       "      <td>Anti-Hispanic or Latino</td>\n",
       "      <td>Race/Ethnicity/Ancestry</td>\n",
       "      <td>738</td>\n",
       "      <td>937</td>\n",
       "      <td>958</td>\n",
       "      <td>778</td>\n",
       "    </tr>\n",
       "    <tr>\n",
       "      <th>8</th>\n",
       "      <td>Anti-Other Race/Ethnicity/Ancestry</td>\n",
       "      <td>Race/Ethnicity/Ancestry</td>\n",
       "      <td>399</td>\n",
       "      <td>445</td>\n",
       "      <td>452</td>\n",
       "      <td>351</td>\n",
       "    </tr>\n",
       "    <tr>\n",
       "      <th>9</th>\n",
       "      <td>Anti-Jewish</td>\n",
       "      <td>Religion</td>\n",
       "      <td>1122</td>\n",
       "      <td>1194</td>\n",
       "      <td>1217</td>\n",
       "      <td>769</td>\n",
       "    </tr>\n",
       "  </tbody>\n",
       "</table>\n",
       "</div>"
      ],
      "text/plain": [
       "                                  Bias motivation                     Type  \\\n",
       "0                                      Anti-White  Race/Ethnicity/Ancestry   \n",
       "1                  Anti-Black or African American  Race/Ethnicity/Ancestry   \n",
       "2           Anti-American Indian or Alaska Native  Race/Ethnicity/Ancestry   \n",
       "3                                      Anti-Asian  Race/Ethnicity/Ancestry   \n",
       "4  Anti-Native Hawaiian or Other Pacific Islander  Race/Ethnicity/Ancestry   \n",
       "5                      Anti-Multiple Races, Group  Race/Ethnicity/Ancestry   \n",
       "6                                       Anti-Arab  Race/Ethnicity/Ancestry   \n",
       "7                         Anti-Hispanic or Latino  Race/Ethnicity/Ancestry   \n",
       "8              Anti-Other Race/Ethnicity/Ancestry  Race/Ethnicity/Ancestry   \n",
       "9                                     Anti-Jewish                 Religion   \n",
       "\n",
       "   Incidents  Offenses  Victims1  Known offenders  \n",
       "0        966      1102      1126              892  \n",
       "1       3421      4000      4075             3017  \n",
       "2        194       209       217              196  \n",
       "3        499       579       602              466  \n",
       "4         26        29        30               23  \n",
       "5        232       271       287              175  \n",
       "6         92       105       105               82  \n",
       "7        738       937       958              778  \n",
       "8        399       445       452              351  \n",
       "9       1122      1194      1217              769  "
      ]
     },
     "execution_count": 2,
     "metadata": {},
     "output_type": "execute_result"
    }
   ],
   "source": [
    "df = pd.read_csv(\"data/HateCrime_FBIdata.csv\")\n",
    "df.shape\n",
    "df.info()\n",
    "df.head(10)"
   ]
  },
  {
   "cell_type": "markdown",
   "metadata": {},
   "source": [
    "# cleaning up the data"
   ]
  },
  {
   "cell_type": "markdown",
   "metadata": {},
   "source": [
    "don't really care about the known offenders so I decided to drop that column, but all the rest of the columns are clean and don't need to be changed."
   ]
  },
  {
   "cell_type": "code",
   "execution_count": 3,
   "metadata": {},
   "outputs": [
    {
     "data": {
      "text/plain": [
       "Index(['Bias motivation', 'Type', 'Incidents', 'Offenses', 'Victims1',\n",
       "       'Known offenders'],\n",
       "      dtype='object')"
      ]
     },
     "execution_count": 3,
     "metadata": {},
     "output_type": "execute_result"
    }
   ],
   "source": [
    "df.columns"
   ]
  },
  {
   "cell_type": "code",
   "execution_count": 4,
   "metadata": {},
   "outputs": [
    {
     "data": {
      "text/html": [
       "<div>\n",
       "<style scoped>\n",
       "    .dataframe tbody tr th:only-of-type {\n",
       "        vertical-align: middle;\n",
       "    }\n",
       "\n",
       "    .dataframe tbody tr th {\n",
       "        vertical-align: top;\n",
       "    }\n",
       "\n",
       "    .dataframe thead th {\n",
       "        text-align: right;\n",
       "    }\n",
       "</style>\n",
       "<table border=\"1\" class=\"dataframe\">\n",
       "  <thead>\n",
       "    <tr style=\"text-align: right;\">\n",
       "      <th></th>\n",
       "      <th>Bias motivation</th>\n",
       "      <th>Type</th>\n",
       "      <th>Incidents</th>\n",
       "      <th>Offenses</th>\n",
       "      <th>Victims1</th>\n",
       "    </tr>\n",
       "  </thead>\n",
       "  <tbody>\n",
       "    <tr>\n",
       "      <th>0</th>\n",
       "      <td>Anti-White</td>\n",
       "      <td>Race/Ethnicity/Ancestry</td>\n",
       "      <td>966</td>\n",
       "      <td>1102</td>\n",
       "      <td>1126</td>\n",
       "    </tr>\n",
       "    <tr>\n",
       "      <th>1</th>\n",
       "      <td>Anti-Black or African American</td>\n",
       "      <td>Race/Ethnicity/Ancestry</td>\n",
       "      <td>3421</td>\n",
       "      <td>4000</td>\n",
       "      <td>4075</td>\n",
       "    </tr>\n",
       "    <tr>\n",
       "      <th>2</th>\n",
       "      <td>Anti-American Indian or Alaska Native</td>\n",
       "      <td>Race/Ethnicity/Ancestry</td>\n",
       "      <td>194</td>\n",
       "      <td>209</td>\n",
       "      <td>217</td>\n",
       "    </tr>\n",
       "    <tr>\n",
       "      <th>3</th>\n",
       "      <td>Anti-Asian</td>\n",
       "      <td>Race/Ethnicity/Ancestry</td>\n",
       "      <td>499</td>\n",
       "      <td>579</td>\n",
       "      <td>602</td>\n",
       "    </tr>\n",
       "    <tr>\n",
       "      <th>4</th>\n",
       "      <td>Anti-Native Hawaiian or Other Pacific Islander</td>\n",
       "      <td>Race/Ethnicity/Ancestry</td>\n",
       "      <td>26</td>\n",
       "      <td>29</td>\n",
       "      <td>30</td>\n",
       "    </tr>\n",
       "    <tr>\n",
       "      <th>5</th>\n",
       "      <td>Anti-Multiple Races, Group</td>\n",
       "      <td>Race/Ethnicity/Ancestry</td>\n",
       "      <td>232</td>\n",
       "      <td>271</td>\n",
       "      <td>287</td>\n",
       "    </tr>\n",
       "    <tr>\n",
       "      <th>6</th>\n",
       "      <td>Anti-Arab</td>\n",
       "      <td>Race/Ethnicity/Ancestry</td>\n",
       "      <td>92</td>\n",
       "      <td>105</td>\n",
       "      <td>105</td>\n",
       "    </tr>\n",
       "    <tr>\n",
       "      <th>7</th>\n",
       "      <td>Anti-Hispanic or Latino</td>\n",
       "      <td>Race/Ethnicity/Ancestry</td>\n",
       "      <td>738</td>\n",
       "      <td>937</td>\n",
       "      <td>958</td>\n",
       "    </tr>\n",
       "    <tr>\n",
       "      <th>8</th>\n",
       "      <td>Anti-Other Race/Ethnicity/Ancestry</td>\n",
       "      <td>Race/Ethnicity/Ancestry</td>\n",
       "      <td>399</td>\n",
       "      <td>445</td>\n",
       "      <td>452</td>\n",
       "    </tr>\n",
       "    <tr>\n",
       "      <th>9</th>\n",
       "      <td>Anti-Jewish</td>\n",
       "      <td>Religion</td>\n",
       "      <td>1122</td>\n",
       "      <td>1194</td>\n",
       "      <td>1217</td>\n",
       "    </tr>\n",
       "  </tbody>\n",
       "</table>\n",
       "</div>"
      ],
      "text/plain": [
       "                                  Bias motivation                     Type  \\\n",
       "0                                      Anti-White  Race/Ethnicity/Ancestry   \n",
       "1                  Anti-Black or African American  Race/Ethnicity/Ancestry   \n",
       "2           Anti-American Indian or Alaska Native  Race/Ethnicity/Ancestry   \n",
       "3                                      Anti-Asian  Race/Ethnicity/Ancestry   \n",
       "4  Anti-Native Hawaiian or Other Pacific Islander  Race/Ethnicity/Ancestry   \n",
       "5                      Anti-Multiple Races, Group  Race/Ethnicity/Ancestry   \n",
       "6                                       Anti-Arab  Race/Ethnicity/Ancestry   \n",
       "7                         Anti-Hispanic or Latino  Race/Ethnicity/Ancestry   \n",
       "8              Anti-Other Race/Ethnicity/Ancestry  Race/Ethnicity/Ancestry   \n",
       "9                                     Anti-Jewish                 Religion   \n",
       "\n",
       "   Incidents  Offenses  Victims1  \n",
       "0        966      1102      1126  \n",
       "1       3421      4000      4075  \n",
       "2        194       209       217  \n",
       "3        499       579       602  \n",
       "4         26        29        30  \n",
       "5        232       271       287  \n",
       "6         92       105       105  \n",
       "7        738       937       958  \n",
       "8        399       445       452  \n",
       "9       1122      1194      1217  "
      ]
     },
     "execution_count": 4,
     "metadata": {},
     "output_type": "execute_result"
    }
   ],
   "source": [
    "df = df[['Bias motivation', 'Type', 'Incidents', 'Offenses', 'Victims1']]\n",
    "\n",
    "# To check the column got dropped:\n",
    "df.head(10)"
   ]
  },
  {
   "cell_type": "markdown",
   "metadata": {},
   "source": [
    "check for null values"
   ]
  },
  {
   "cell_type": "code",
   "execution_count": 5,
   "metadata": {},
   "outputs": [
    {
     "data": {
      "text/plain": [
       "Bias motivation    0.0\n",
       "Type               0.0\n",
       "Incidents          0.0\n",
       "Offenses           0.0\n",
       "Victims1           0.0\n",
       "dtype: float64"
      ]
     },
     "execution_count": 5,
     "metadata": {},
     "output_type": "execute_result"
    }
   ],
   "source": [
    "# result --> none are null\n",
    "df.isna().sum() / df.shape[0]"
   ]
  },
  {
   "cell_type": "markdown",
   "metadata": {},
   "source": [
    "# exploratory data analysis"
   ]
  },
  {
   "cell_type": "markdown",
   "metadata": {},
   "source": [
    "CONTEXT: FBI data about the distribution of bias that movivates various hate crimes"
   ]
  },
  {
   "cell_type": "code",
   "execution_count": 6,
   "metadata": {},
   "outputs": [
    {
     "data": {
      "text/plain": [
       "([0, 1, 2, 3, 4, 5],\n",
       " [Text(0, 0, 'Race/Ethnicity/Ancestry'),\n",
       "  Text(1, 0, 'Religion'),\n",
       "  Text(2, 0, 'Sexual Orientation'),\n",
       "  Text(3, 0, 'Disability'),\n",
       "  Text(4, 0, 'Gender'),\n",
       "  Text(5, 0, 'Gender Identity')])"
      ]
     },
     "execution_count": 6,
     "metadata": {},
     "output_type": "execute_result"
    },
    {
     "data": {
      "image/png": "[encoded data removed]",
      "text/plain": [
       "<Figure size 640x480 with 1 Axes>"
      ]
     },
     "metadata": {},
     "output_type": "display_data"
    }
   ],
   "source": [
    "sns.histplot(data = df, x = \"Type\")\n",
    "plt.xticks(rotation=80)\n",
    "\n",
    "# Table shows that there is the most diversity of religious bias motivators"
   ]
  },
  {
   "cell_type": "code",
   "execution_count": 7,
   "metadata": {},
   "outputs": [
    {
     "data": {
      "text/plain": [
       "<Figure size 25000x10000 with 0 Axes>"
      ]
     },
     "execution_count": 7,
     "metadata": {},
     "output_type": "execute_result"
    },
    {
     "data": {
      "image/png": "[encoded data removed]",
      "text/plain": [
       "<Figure size 640x480 with 1 Axes>"
      ]
     },
     "metadata": {},
     "output_type": "display_data"
    },
    {
     "data": {
      "text/plain": [
       "<Figure size 25000x10000 with 0 Axes>"
      ]
     },
     "metadata": {},
     "output_type": "display_data"
    }
   ],
   "source": [
    "plt.title(\"Victims vs Incidents\")\n",
    "\n",
    "##### Tried to clean up data to make into a scatter plot --> ended up doing manually ######\n",
    "# with open('HateCrime_FBIdata.csv', 'r') as file:\n",
    "#     reader = csv.reader(file)\n",
    "\n",
    "#     for row in reader:\n",
    "#         for value in row:\n",
    "#             if(type(value) == str):\n",
    "#                 value = value.replace(\",\", \"\")\n",
    "#             value = int(value)\n",
    "\n",
    "sns.scatterplot(data = df, x = \"Incidents\", y = \"Victims1\")\n",
    "plt.xticks(rotation=90)\n",
    "plt.figure(figsize=(250,100))"
   ]
  },
  {
   "cell_type": "markdown",
   "metadata": {},
   "source": [
    "^ Had to clean up the data at this point to keep the proper integer units"
   ]
  },
  {
   "cell_type": "markdown",
   "metadata": {},
   "source": [
    "# statistical data analysis"
   ]
  },
  {
   "cell_type": "markdown",
   "metadata": {},
   "source": [
    "### 1. What types of hate crimes are most common?"
   ]
  },
  {
   "cell_type": "markdown",
   "metadata": {},
   "source": [
    "##### (according to the FBI) an “incident” is defined as one or more offenses committed by the same offender, or group of offenders acting in concert, at the same time and place"
   ]
  },
  {
   "cell_type": "code",
   "execution_count": 8,
   "metadata": {},
   "outputs": [
    {
     "name": "stdout",
     "output_type": "stream",
     "text": [
      "13278\n",
      "11288\n",
      "12913\n"
     ]
    }
   ],
   "source": [
    "sum_victims = df[\"Victims1\"].sum()\n",
    "print(sum_victims)\n",
    "\n",
    "sum_incidents = df[\"Incidents\"].sum()\n",
    "print(sum_incidents)\n",
    "\n",
    "sum_offenses = df[\"Offenses\"].sum()\n",
    "print(sum_offenses)\n",
    "\n",
    "# Incidents are more common than offenses, which makes sense as hate crimes are often group efforts \n",
    "# or targeted towards a specific population living in a particular area\n"
   ]
  },
  {
   "cell_type": "markdown",
   "metadata": {},
   "source": [
    "### 2. Which type of bias group is mostly targeted?"
   ]
  },
  {
   "cell_type": "code",
   "execution_count": 9,
   "metadata": {},
   "outputs": [
    {
     "data": {
      "text/html": [
       "<div>\n",
       "<style scoped>\n",
       "    .dataframe tbody tr th:only-of-type {\n",
       "        vertical-align: middle;\n",
       "    }\n",
       "\n",
       "    .dataframe tbody tr th {\n",
       "        vertical-align: top;\n",
       "    }\n",
       "\n",
       "    .dataframe thead th {\n",
       "        text-align: right;\n",
       "    }\n",
       "</style>\n",
       "<table border=\"1\" class=\"dataframe\">\n",
       "  <thead>\n",
       "    <tr style=\"text-align: right;\">\n",
       "      <th></th>\n",
       "      <th>Bias motivation</th>\n",
       "      <th>Type</th>\n",
       "      <th>Incidents</th>\n",
       "      <th>Offenses</th>\n",
       "      <th>Victims1</th>\n",
       "    </tr>\n",
       "  </thead>\n",
       "  <tbody>\n",
       "    <tr>\n",
       "      <th>1</th>\n",
       "      <td>Anti-Black or African American</td>\n",
       "      <td>Race/Ethnicity/Ancestry</td>\n",
       "      <td>3421</td>\n",
       "      <td>4000</td>\n",
       "      <td>4075</td>\n",
       "    </tr>\n",
       "    <tr>\n",
       "      <th>9</th>\n",
       "      <td>Anti-Jewish</td>\n",
       "      <td>Religion</td>\n",
       "      <td>1122</td>\n",
       "      <td>1194</td>\n",
       "      <td>1217</td>\n",
       "    </tr>\n",
       "    <tr>\n",
       "      <th>23</th>\n",
       "      <td>Anti-Gay (Male)</td>\n",
       "      <td>Sexual Orientation</td>\n",
       "      <td>1075</td>\n",
       "      <td>1194</td>\n",
       "      <td>1217</td>\n",
       "    </tr>\n",
       "    <tr>\n",
       "      <th>0</th>\n",
       "      <td>Anti-White</td>\n",
       "      <td>Race/Ethnicity/Ancestry</td>\n",
       "      <td>966</td>\n",
       "      <td>1102</td>\n",
       "      <td>1126</td>\n",
       "    </tr>\n",
       "    <tr>\n",
       "      <th>7</th>\n",
       "      <td>Anti-Hispanic or Latino</td>\n",
       "      <td>Race/Ethnicity/Ancestry</td>\n",
       "      <td>738</td>\n",
       "      <td>937</td>\n",
       "      <td>958</td>\n",
       "    </tr>\n",
       "  </tbody>\n",
       "</table>\n",
       "</div>"
      ],
      "text/plain": [
       "                   Bias motivation                     Type  Incidents  \\\n",
       "1   Anti-Black or African American  Race/Ethnicity/Ancestry       3421   \n",
       "9                      Anti-Jewish                 Religion       1122   \n",
       "23                 Anti-Gay (Male)       Sexual Orientation       1075   \n",
       "0                       Anti-White  Race/Ethnicity/Ancestry        966   \n",
       "7          Anti-Hispanic or Latino  Race/Ethnicity/Ancestry        738   \n",
       "\n",
       "    Offenses  Victims1  \n",
       "1       4000      4075  \n",
       "9       1194      1217  \n",
       "23      1194      1217  \n",
       "0       1102      1126  \n",
       "7        937       958  "
      ]
     },
     "execution_count": 9,
     "metadata": {},
     "output_type": "execute_result"
    }
   ],
   "source": [
    "bias_inc = df.sort_values(\"Incidents\", ascending = False)\n",
    "bias_inc.head(5)"
   ]
  },
  {
   "cell_type": "code",
   "execution_count": 10,
   "metadata": {},
   "outputs": [
    {
     "data": {
      "text/html": [
       "<div>\n",
       "<style scoped>\n",
       "    .dataframe tbody tr th:only-of-type {\n",
       "        vertical-align: middle;\n",
       "    }\n",
       "\n",
       "    .dataframe tbody tr th {\n",
       "        vertical-align: top;\n",
       "    }\n",
       "\n",
       "    .dataframe thead th {\n",
       "        text-align: right;\n",
       "    }\n",
       "</style>\n",
       "<table border=\"1\" class=\"dataframe\">\n",
       "  <thead>\n",
       "    <tr style=\"text-align: right;\">\n",
       "      <th></th>\n",
       "      <th>Bias motivation</th>\n",
       "      <th>Type</th>\n",
       "      <th>Incidents</th>\n",
       "      <th>Offenses</th>\n",
       "      <th>Victims1</th>\n",
       "    </tr>\n",
       "  </thead>\n",
       "  <tbody>\n",
       "    <tr>\n",
       "      <th>1</th>\n",
       "      <td>Anti-Black or African American</td>\n",
       "      <td>Race/Ethnicity/Ancestry</td>\n",
       "      <td>3421</td>\n",
       "      <td>4000</td>\n",
       "      <td>4075</td>\n",
       "    </tr>\n",
       "    <tr>\n",
       "      <th>9</th>\n",
       "      <td>Anti-Jewish</td>\n",
       "      <td>Religion</td>\n",
       "      <td>1122</td>\n",
       "      <td>1194</td>\n",
       "      <td>1217</td>\n",
       "    </tr>\n",
       "    <tr>\n",
       "      <th>23</th>\n",
       "      <td>Anti-Gay (Male)</td>\n",
       "      <td>Sexual Orientation</td>\n",
       "      <td>1075</td>\n",
       "      <td>1194</td>\n",
       "      <td>1217</td>\n",
       "    </tr>\n",
       "    <tr>\n",
       "      <th>0</th>\n",
       "      <td>Anti-White</td>\n",
       "      <td>Race/Ethnicity/Ancestry</td>\n",
       "      <td>966</td>\n",
       "      <td>1102</td>\n",
       "      <td>1126</td>\n",
       "    </tr>\n",
       "    <tr>\n",
       "      <th>7</th>\n",
       "      <td>Anti-Hispanic or Latino</td>\n",
       "      <td>Race/Ethnicity/Ancestry</td>\n",
       "      <td>738</td>\n",
       "      <td>937</td>\n",
       "      <td>958</td>\n",
       "    </tr>\n",
       "  </tbody>\n",
       "</table>\n",
       "</div>"
      ],
      "text/plain": [
       "                   Bias motivation                     Type  Incidents  \\\n",
       "1   Anti-Black or African American  Race/Ethnicity/Ancestry       3421   \n",
       "9                      Anti-Jewish                 Religion       1122   \n",
       "23                 Anti-Gay (Male)       Sexual Orientation       1075   \n",
       "0                       Anti-White  Race/Ethnicity/Ancestry        966   \n",
       "7          Anti-Hispanic or Latino  Race/Ethnicity/Ancestry        738   \n",
       "\n",
       "    Offenses  Victims1  \n",
       "1       4000      4075  \n",
       "9       1194      1217  \n",
       "23      1194      1217  \n",
       "0       1102      1126  \n",
       "7        937       958  "
      ]
     },
     "execution_count": 10,
     "metadata": {},
     "output_type": "execute_result"
    }
   ],
   "source": [
    "bias_off = df.sort_values(\"Offenses\", ascending = False)\n",
    "bias_off.head(5)"
   ]
  },
  {
   "cell_type": "code",
   "execution_count": 11,
   "metadata": {},
   "outputs": [
    {
     "data": {
      "text/html": [
       "<div>\n",
       "<style scoped>\n",
       "    .dataframe tbody tr th:only-of-type {\n",
       "        vertical-align: middle;\n",
       "    }\n",
       "\n",
       "    .dataframe tbody tr th {\n",
       "        vertical-align: top;\n",
       "    }\n",
       "\n",
       "    .dataframe thead th {\n",
       "        text-align: right;\n",
       "    }\n",
       "</style>\n",
       "<table border=\"1\" class=\"dataframe\">\n",
       "  <thead>\n",
       "    <tr style=\"text-align: right;\">\n",
       "      <th></th>\n",
       "      <th>Bias motivation</th>\n",
       "      <th>Type</th>\n",
       "      <th>Incidents</th>\n",
       "      <th>Offenses</th>\n",
       "      <th>Victims1</th>\n",
       "    </tr>\n",
       "  </thead>\n",
       "  <tbody>\n",
       "    <tr>\n",
       "      <th>1</th>\n",
       "      <td>Anti-Black or African American</td>\n",
       "      <td>Race/Ethnicity/Ancestry</td>\n",
       "      <td>3421</td>\n",
       "      <td>4000</td>\n",
       "      <td>4075</td>\n",
       "    </tr>\n",
       "    <tr>\n",
       "      <th>9</th>\n",
       "      <td>Anti-Jewish</td>\n",
       "      <td>Religion</td>\n",
       "      <td>1122</td>\n",
       "      <td>1194</td>\n",
       "      <td>1217</td>\n",
       "    </tr>\n",
       "    <tr>\n",
       "      <th>23</th>\n",
       "      <td>Anti-Gay (Male)</td>\n",
       "      <td>Sexual Orientation</td>\n",
       "      <td>1075</td>\n",
       "      <td>1194</td>\n",
       "      <td>1217</td>\n",
       "    </tr>\n",
       "    <tr>\n",
       "      <th>0</th>\n",
       "      <td>Anti-White</td>\n",
       "      <td>Race/Ethnicity/Ancestry</td>\n",
       "      <td>966</td>\n",
       "      <td>1102</td>\n",
       "      <td>1126</td>\n",
       "    </tr>\n",
       "    <tr>\n",
       "      <th>7</th>\n",
       "      <td>Anti-Hispanic or Latino</td>\n",
       "      <td>Race/Ethnicity/Ancestry</td>\n",
       "      <td>738</td>\n",
       "      <td>937</td>\n",
       "      <td>958</td>\n",
       "    </tr>\n",
       "  </tbody>\n",
       "</table>\n",
       "</div>"
      ],
      "text/plain": [
       "                   Bias motivation                     Type  Incidents  \\\n",
       "1   Anti-Black or African American  Race/Ethnicity/Ancestry       3421   \n",
       "9                      Anti-Jewish                 Religion       1122   \n",
       "23                 Anti-Gay (Male)       Sexual Orientation       1075   \n",
       "0                       Anti-White  Race/Ethnicity/Ancestry        966   \n",
       "7          Anti-Hispanic or Latino  Race/Ethnicity/Ancestry        738   \n",
       "\n",
       "    Offenses  Victims1  \n",
       "1       4000      4075  \n",
       "9       1194      1217  \n",
       "23      1194      1217  \n",
       "0       1102      1126  \n",
       "7        937       958  "
      ]
     },
     "execution_count": 11,
     "metadata": {},
     "output_type": "execute_result"
    }
   ],
   "source": [
    "bias_vic = df.sort_values(\"Victims1\", ascending = False)\n",
    "bias_vic.head(5)"
   ]
  },
  {
   "cell_type": "markdown",
   "metadata": {},
   "source": [
    "From all three types of hate crimes (Incidents, Offenses, Victims) it is clear that the number 1 targeted bias motivation is Anti-Black or African American"
   ]
  },
  {
   "cell_type": "markdown",
   "metadata": {},
   "source": [
    "### 3. Out of each type/category of bias hate motivation, which one is targeted?"
   ]
  },
  {
   "cell_type": "code",
   "execution_count": 12,
   "metadata": {},
   "outputs": [
    {
     "data": {
      "text/html": [
       "<div>\n",
       "<style scoped>\n",
       "    .dataframe tbody tr th:only-of-type {\n",
       "        vertical-align: middle;\n",
       "    }\n",
       "\n",
       "    .dataframe tbody tr th {\n",
       "        vertical-align: top;\n",
       "    }\n",
       "\n",
       "    .dataframe thead th {\n",
       "        text-align: right;\n",
       "    }\n",
       "</style>\n",
       "<table border=\"1\" class=\"dataframe\">\n",
       "  <thead>\n",
       "    <tr style=\"text-align: right;\">\n",
       "      <th></th>\n",
       "      <th>Bias motivation</th>\n",
       "      <th>Type</th>\n",
       "      <th>Incidents</th>\n",
       "      <th>Offenses</th>\n",
       "      <th>Victims1</th>\n",
       "    </tr>\n",
       "  </thead>\n",
       "  <tbody>\n",
       "    <tr>\n",
       "      <th>1</th>\n",
       "      <td>Anti-Black or African American</td>\n",
       "      <td>Race/Ethnicity/Ancestry</td>\n",
       "      <td>3421</td>\n",
       "      <td>4000</td>\n",
       "      <td>4075</td>\n",
       "    </tr>\n",
       "    <tr>\n",
       "      <th>0</th>\n",
       "      <td>Anti-White</td>\n",
       "      <td>Race/Ethnicity/Ancestry</td>\n",
       "      <td>966</td>\n",
       "      <td>1102</td>\n",
       "      <td>1126</td>\n",
       "    </tr>\n",
       "    <tr>\n",
       "      <th>7</th>\n",
       "      <td>Anti-Hispanic or Latino</td>\n",
       "      <td>Race/Ethnicity/Ancestry</td>\n",
       "      <td>738</td>\n",
       "      <td>937</td>\n",
       "      <td>958</td>\n",
       "    </tr>\n",
       "    <tr>\n",
       "      <th>3</th>\n",
       "      <td>Anti-Asian</td>\n",
       "      <td>Race/Ethnicity/Ancestry</td>\n",
       "      <td>499</td>\n",
       "      <td>579</td>\n",
       "      <td>602</td>\n",
       "    </tr>\n",
       "    <tr>\n",
       "      <th>8</th>\n",
       "      <td>Anti-Other Race/Ethnicity/Ancestry</td>\n",
       "      <td>Race/Ethnicity/Ancestry</td>\n",
       "      <td>399</td>\n",
       "      <td>445</td>\n",
       "      <td>452</td>\n",
       "    </tr>\n",
       "  </tbody>\n",
       "</table>\n",
       "</div>"
      ],
      "text/plain": [
       "                      Bias motivation                     Type  Incidents  \\\n",
       "1      Anti-Black or African American  Race/Ethnicity/Ancestry       3421   \n",
       "0                          Anti-White  Race/Ethnicity/Ancestry        966   \n",
       "7             Anti-Hispanic or Latino  Race/Ethnicity/Ancestry        738   \n",
       "3                          Anti-Asian  Race/Ethnicity/Ancestry        499   \n",
       "8  Anti-Other Race/Ethnicity/Ancestry  Race/Ethnicity/Ancestry        399   \n",
       "\n",
       "   Offenses  Victims1  \n",
       "1      4000      4075  \n",
       "0      1102      1126  \n",
       "7       937       958  \n",
       "3       579       602  \n",
       "8       445       452  "
      ]
     },
     "execution_count": 12,
     "metadata": {},
     "output_type": "execute_result"
    }
   ],
   "source": [
    "df_race = df.query(\"Type == 'Race/Ethnicity/Ancestry'\")\n",
    "df_race =  df_race.sort_values(\"Incidents\", ascending = False) \n",
    "df_race.head(5)\n",
    "\n",
    "# Anti-Black (in line with bias group)"
   ]
  },
  {
   "cell_type": "code",
   "execution_count": 13,
   "metadata": {},
   "outputs": [
    {
     "data": {
      "text/html": [
       "<div>\n",
       "<style scoped>\n",
       "    .dataframe tbody tr th:only-of-type {\n",
       "        vertical-align: middle;\n",
       "    }\n",
       "\n",
       "    .dataframe tbody tr th {\n",
       "        vertical-align: top;\n",
       "    }\n",
       "\n",
       "    .dataframe thead th {\n",
       "        text-align: right;\n",
       "    }\n",
       "</style>\n",
       "<table border=\"1\" class=\"dataframe\">\n",
       "  <thead>\n",
       "    <tr style=\"text-align: right;\">\n",
       "      <th></th>\n",
       "      <th>Bias motivation</th>\n",
       "      <th>Type</th>\n",
       "      <th>Incidents</th>\n",
       "      <th>Offenses</th>\n",
       "      <th>Victims1</th>\n",
       "    </tr>\n",
       "  </thead>\n",
       "  <tbody>\n",
       "    <tr>\n",
       "      <th>9</th>\n",
       "      <td>Anti-Jewish</td>\n",
       "      <td>Religion</td>\n",
       "      <td>1122</td>\n",
       "      <td>1194</td>\n",
       "      <td>1217</td>\n",
       "    </tr>\n",
       "    <tr>\n",
       "      <th>21</th>\n",
       "      <td>Anti-Sikh</td>\n",
       "      <td>Religion</td>\n",
       "      <td>181</td>\n",
       "      <td>192</td>\n",
       "      <td>198</td>\n",
       "    </tr>\n",
       "    <tr>\n",
       "      <th>12</th>\n",
       "      <td>Anti-Islamic (Muslim)</td>\n",
       "      <td>Religion</td>\n",
       "      <td>158</td>\n",
       "      <td>179</td>\n",
       "      <td>200</td>\n",
       "    </tr>\n",
       "    <tr>\n",
       "      <th>10</th>\n",
       "      <td>Anti-Catholic</td>\n",
       "      <td>Religion</td>\n",
       "      <td>107</td>\n",
       "      <td>110</td>\n",
       "      <td>113</td>\n",
       "    </tr>\n",
       "    <tr>\n",
       "      <th>18</th>\n",
       "      <td>Anti-Other Christian</td>\n",
       "      <td>Religion</td>\n",
       "      <td>97</td>\n",
       "      <td>111</td>\n",
       "      <td>117</td>\n",
       "    </tr>\n",
       "  </tbody>\n",
       "</table>\n",
       "</div>"
      ],
      "text/plain": [
       "          Bias motivation      Type  Incidents  Offenses  Victims1\n",
       "9             Anti-Jewish  Religion       1122      1194      1217\n",
       "21              Anti-Sikh  Religion        181       192       198\n",
       "12  Anti-Islamic (Muslim)  Religion        158       179       200\n",
       "10          Anti-Catholic  Religion        107       110       113\n",
       "18   Anti-Other Christian  Religion         97       111       117"
      ]
     },
     "execution_count": 13,
     "metadata": {},
     "output_type": "execute_result"
    }
   ],
   "source": [
    "df_religion = df.query(\"Type == 'Religion'\")\n",
    "df_religion =  df_religion.sort_values(\"Incidents\", ascending = False) \n",
    "df_religion.head(5)"
   ]
  },
  {
   "cell_type": "code",
   "execution_count": 14,
   "metadata": {},
   "outputs": [
    {
     "data": {
      "text/html": [
       "<div>\n",
       "<style scoped>\n",
       "    .dataframe tbody tr th:only-of-type {\n",
       "        vertical-align: middle;\n",
       "    }\n",
       "\n",
       "    .dataframe tbody tr th {\n",
       "        vertical-align: top;\n",
       "    }\n",
       "\n",
       "    .dataframe thead th {\n",
       "        text-align: right;\n",
       "    }\n",
       "</style>\n",
       "<table border=\"1\" class=\"dataframe\">\n",
       "  <thead>\n",
       "    <tr style=\"text-align: right;\">\n",
       "      <th></th>\n",
       "      <th>Bias motivation</th>\n",
       "      <th>Type</th>\n",
       "      <th>Incidents</th>\n",
       "      <th>Offenses</th>\n",
       "      <th>Victims1</th>\n",
       "    </tr>\n",
       "  </thead>\n",
       "  <tbody>\n",
       "    <tr>\n",
       "      <th>23</th>\n",
       "      <td>Anti-Gay (Male)</td>\n",
       "      <td>Sexual Orientation</td>\n",
       "      <td>1075</td>\n",
       "      <td>1194</td>\n",
       "      <td>1217</td>\n",
       "    </tr>\n",
       "    <tr>\n",
       "      <th>25</th>\n",
       "      <td>Anti-Lesbian, Gay, Bisexual, or Transgender (M...</td>\n",
       "      <td>Sexual Orientation</td>\n",
       "      <td>622</td>\n",
       "      <td>745</td>\n",
       "      <td>796</td>\n",
       "    </tr>\n",
       "    <tr>\n",
       "      <th>24</th>\n",
       "      <td>Anti-Lesbian</td>\n",
       "      <td>Sexual Orientation</td>\n",
       "      <td>190</td>\n",
       "      <td>211</td>\n",
       "      <td>216</td>\n",
       "    </tr>\n",
       "    <tr>\n",
       "      <th>27</th>\n",
       "      <td>Anti-Bisexual</td>\n",
       "      <td>Sexual Orientation</td>\n",
       "      <td>35</td>\n",
       "      <td>37</td>\n",
       "      <td>37</td>\n",
       "    </tr>\n",
       "    <tr>\n",
       "      <th>26</th>\n",
       "      <td>Anti-Heterosexual</td>\n",
       "      <td>Sexual Orientation</td>\n",
       "      <td>22</td>\n",
       "      <td>23</td>\n",
       "      <td>23</td>\n",
       "    </tr>\n",
       "  </tbody>\n",
       "</table>\n",
       "</div>"
      ],
      "text/plain": [
       "                                      Bias motivation                Type  \\\n",
       "23                                    Anti-Gay (Male)  Sexual Orientation   \n",
       "25  Anti-Lesbian, Gay, Bisexual, or Transgender (M...  Sexual Orientation   \n",
       "24                                       Anti-Lesbian  Sexual Orientation   \n",
       "27                                      Anti-Bisexual  Sexual Orientation   \n",
       "26                                  Anti-Heterosexual  Sexual Orientation   \n",
       "\n",
       "    Incidents  Offenses  Victims1  \n",
       "23       1075      1194      1217  \n",
       "25        622       745       796  \n",
       "24        190       211       216  \n",
       "27         35        37        37  \n",
       "26         22        23        23  "
      ]
     },
     "execution_count": 14,
     "metadata": {},
     "output_type": "execute_result"
    }
   ],
   "source": [
    "df_sexOT = df.query(\"Type == 'Sexual Orientation'\")\n",
    "df_sexOT =  df_sexOT.sort_values(\"Incidents\", ascending = False) \n",
    "df_sexOT.head(5)"
   ]
  },
  {
   "cell_type": "code",
   "execution_count": 15,
   "metadata": {},
   "outputs": [
    {
     "data": {
      "text/html": [
       "<div>\n",
       "<style scoped>\n",
       "    .dataframe tbody tr th:only-of-type {\n",
       "        vertical-align: middle;\n",
       "    }\n",
       "\n",
       "    .dataframe tbody tr th {\n",
       "        vertical-align: top;\n",
       "    }\n",
       "\n",
       "    .dataframe thead th {\n",
       "        text-align: right;\n",
       "    }\n",
       "</style>\n",
       "<table border=\"1\" class=\"dataframe\">\n",
       "  <thead>\n",
       "    <tr style=\"text-align: right;\">\n",
       "      <th></th>\n",
       "      <th>Bias motivation</th>\n",
       "      <th>Type</th>\n",
       "      <th>Incidents</th>\n",
       "      <th>Offenses</th>\n",
       "      <th>Victims1</th>\n",
       "    </tr>\n",
       "  </thead>\n",
       "  <tbody>\n",
       "    <tr>\n",
       "      <th>29</th>\n",
       "      <td>Anti-Mental</td>\n",
       "      <td>Disability</td>\n",
       "      <td>97</td>\n",
       "      <td>108</td>\n",
       "      <td>111</td>\n",
       "    </tr>\n",
       "    <tr>\n",
       "      <th>28</th>\n",
       "      <td>Anti-Physical</td>\n",
       "      <td>Disability</td>\n",
       "      <td>74</td>\n",
       "      <td>83</td>\n",
       "      <td>83</td>\n",
       "    </tr>\n",
       "  </tbody>\n",
       "</table>\n",
       "</div>"
      ],
      "text/plain": [
       "   Bias motivation        Type  Incidents  Offenses  Victims1\n",
       "29     Anti-Mental  Disability         97       108       111\n",
       "28   Anti-Physical  Disability         74        83        83"
      ]
     },
     "execution_count": 15,
     "metadata": {},
     "output_type": "execute_result"
    }
   ],
   "source": [
    "df_dis = df.query(\"Type == 'Disability'\")\n",
    "df_dis =  df_dis.sort_values(\"Incidents\", ascending = False) \n",
    "df_dis.head(5)"
   ]
  },
  {
   "cell_type": "markdown",
   "metadata": {},
   "source": [
    "# FUTURE IMPLICATIONS"
   ]
  },
  {
   "cell_type": "markdown",
   "metadata": {},
   "source": [
    "### What further uses could you see with this data?\n",
    "##### - Could use it to compare to certain regions in particular\n",
    "##### - Or could also see a trend in hate crimes over the years (this data is part of larger set)"
   ]
  },
  {
   "cell_type": "markdown",
   "metadata": {},
   "source": [
    "### Would it be worth training a machine learning model on it? What predictions would you hope to make?\n",
    "#### - Could use it to predict future hate crimes\n",
    "#### - I would want to add information about certain regions, which ones are more prevalant in crimes\n",
    "#### - Then could predict crimes in certain regions to increase surveillance or citizen protection\n"
   ]
  }
 ],
 "metadata": {
  "kernelspec": {
   "display_name": ".venv",
   "language": "python",
   "name": "python3"
  },
  "language_info": {
   "codemirror_mode": {
    "name": "ipython",
    "version": 3
   },
   "file_extension": ".py",
   "mimetype": "text/x-python",
   "name": "python",
   "nbconvert_exporter": "python",
   "pygments_lexer": "ipython3",
   "version": "3.9.6"
  },
  "orig_nbformat": 4
 },
 "nbformat": 4,
 "nbformat_minor": 2
}
